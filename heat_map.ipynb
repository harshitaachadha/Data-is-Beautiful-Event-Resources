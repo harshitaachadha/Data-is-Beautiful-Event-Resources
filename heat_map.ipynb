{
 "cells": [
  {
   "cell_type": "markdown",
   "id": "c464e6c1-4d91-49b1-a148-06ba22a27e3b",
   "metadata": {},
   "source": [
    "# Heat Map"
   ]
  },
  {
   "cell_type": "markdown",
   "id": "f769f72b-33a3-4728-99ed-48f46aab3c6e",
   "metadata": {},
   "source": [
    "A heatmap is a two-dimensional graphical representation of data where the individual values that are contained in a matrix are represented as colors. The seaborn python package allows the creation of annotated heatmaps which can be tweaked using Matplotlib tools as per the creator’s requirement."
   ]
  },
  {
   "cell_type": "markdown",
   "id": "4775d4e2-5344-46a4-8118-1bdd8e294a08",
   "metadata": {},
   "source": [
    "Here, I have used twitter data about the frequency of tweets between January 2017 and September 2020 for 2020 american presidential election candidates Joe Biden and Donal Trump. This data can be found [here](https://www.kaggle.com/sgwood/biden-and-trump-tweets-201720). We start by importing all of the required libraries into the notebook."
   ]
  },
  {
   "cell_type": "code",
   "execution_count": 9,
   "id": "49ae4e56-665f-48ae-b112-fc33d716c617",
   "metadata": {
    "collapsed": true,
    "jupyter": {
     "outputs_hidden": true
    },
    "tags": []
   },
   "outputs": [
    {
     "name": "stdout",
     "output_type": "stream",
     "text": [
      "Collecting seaborn\n",
      "  Downloading seaborn-0.11.1-py3-none-any.whl (285 kB)\n",
      "\u001b[K     |████████████████████████████████| 285 kB 716 kB/s eta 0:00:01\n",
      "\u001b[?25hRequirement already satisfied: pandas>=0.23 in /usr/local/lib/python3.9/site-packages (from seaborn) (1.2.3)\n",
      "Requirement already satisfied: numpy>=1.15 in /usr/local/lib/python3.9/site-packages (from seaborn) (1.20.1)\n",
      "Requirement already satisfied: scipy>=1.0 in /usr/local/lib/python3.9/site-packages (from seaborn) (1.6.1)\n",
      "Requirement already satisfied: matplotlib>=2.2 in /usr/local/lib/python3.9/site-packages (from seaborn) (3.3.4)\n",
      "Requirement already satisfied: kiwisolver>=1.0.1 in /usr/local/lib/python3.9/site-packages (from matplotlib>=2.2->seaborn) (1.3.1)\n",
      "Requirement already satisfied: pyparsing!=2.0.4,!=2.1.2,!=2.1.6,>=2.0.3 in /usr/local/lib/python3.9/site-packages (from matplotlib>=2.2->seaborn) (2.4.7)\n",
      "Requirement already satisfied: python-dateutil>=2.1 in /usr/local/lib/python3.9/site-packages (from matplotlib>=2.2->seaborn) (2.8.1)\n",
      "Requirement already satisfied: pillow>=6.2.0 in /usr/local/lib/python3.9/site-packages (from matplotlib>=2.2->seaborn) (8.1.2)\n",
      "Requirement already satisfied: cycler>=0.10 in /usr/local/lib/python3.9/site-packages (from matplotlib>=2.2->seaborn) (0.10.0)\n",
      "Requirement already satisfied: six in /usr/local/lib/python3.9/site-packages (from cycler>=0.10->matplotlib>=2.2->seaborn) (1.15.0)\n",
      "Requirement already satisfied: pytz>=2017.3 in /usr/local/lib/python3.9/site-packages (from pandas>=0.23->seaborn) (2021.1)\n",
      "Installing collected packages: seaborn\n",
      "Successfully installed seaborn-0.11.1\n",
      "\u001b[33mWARNING: You are using pip version 21.0.1; however, version 21.1.1 is available.\n",
      "You should consider upgrading via the '/usr/local/opt/python@3.9/bin/python3.9 -m pip install --upgrade pip' command.\u001b[0m\n"
     ]
    }
   ],
   "source": [
    "# importing the libraries\n",
    "import pandas as pd\n",
    "import matplotlib.pyplot as plt\n",
    "#installing seaborn beacase of lack of default istallation\n",
    "!pip install seaborn\n",
    "import seaborn as sns"
   ]
  },
  {
   "cell_type": "markdown",
   "id": "0b6f2aca-1291-4fe5-ae97-aae5da17b1a4",
   "metadata": {},
   "source": [
    "Storing the data into a dataframe and taking a look at the imported data."
   ]
  },
  {
   "cell_type": "code",
   "execution_count": 4,
   "id": "e106c430-2635-4c67-a8d2-c8445d9b3968",
   "metadata": {},
   "outputs": [
    {
     "data": {
      "text/html": [
       "<div>\n",
       "<style scoped>\n",
       "    .dataframe tbody tr th:only-of-type {\n",
       "        vertical-align: middle;\n",
       "    }\n",
       "\n",
       "    .dataframe tbody tr th {\n",
       "        vertical-align: top;\n",
       "    }\n",
       "\n",
       "    .dataframe thead th {\n",
       "        text-align: right;\n",
       "    }\n",
       "</style>\n",
       "<table border=\"1\" class=\"dataframe\">\n",
       "  <thead>\n",
       "    <tr style=\"text-align: right;\">\n",
       "      <th></th>\n",
       "      <th>id</th>\n",
       "      <th>username</th>\n",
       "      <th>date_utc</th>\n",
       "      <th>hour_utc</th>\n",
       "      <th>minute_utc</th>\n",
       "      <th>retweets</th>\n",
       "    </tr>\n",
       "  </thead>\n",
       "  <tbody>\n",
       "    <tr>\n",
       "      <th>0</th>\n",
       "      <td>815422340540547073</td>\n",
       "      <td>realDonaldTrump</td>\n",
       "      <td>2017-01-01 05:00:10+00:00</td>\n",
       "      <td>5</td>\n",
       "      <td>0</td>\n",
       "      <td>27134</td>\n",
       "    </tr>\n",
       "    <tr>\n",
       "      <th>1</th>\n",
       "      <td>815930688889352192</td>\n",
       "      <td>realDonaldTrump</td>\n",
       "      <td>2017-01-02 14:40:10+00:00</td>\n",
       "      <td>14</td>\n",
       "      <td>40</td>\n",
       "      <td>23930</td>\n",
       "    </tr>\n",
       "    <tr>\n",
       "      <th>2</th>\n",
       "      <td>815973752785793024</td>\n",
       "      <td>realDonaldTrump</td>\n",
       "      <td>2017-01-02 17:31:17+00:00</td>\n",
       "      <td>17</td>\n",
       "      <td>31</td>\n",
       "      <td>14119</td>\n",
       "    </tr>\n",
       "    <tr>\n",
       "      <th>3</th>\n",
       "      <td>815989154555297792</td>\n",
       "      <td>realDonaldTrump</td>\n",
       "      <td>2017-01-02 18:32:29+00:00</td>\n",
       "      <td>18</td>\n",
       "      <td>32</td>\n",
       "      <td>3193</td>\n",
       "    </tr>\n",
       "    <tr>\n",
       "      <th>4</th>\n",
       "      <td>815990335318982656</td>\n",
       "      <td>realDonaldTrump</td>\n",
       "      <td>2017-01-02 18:37:10+00:00</td>\n",
       "      <td>18</td>\n",
       "      <td>37</td>\n",
       "      <td>7337</td>\n",
       "    </tr>\n",
       "  </tbody>\n",
       "</table>\n",
       "</div>"
      ],
      "text/plain": [
       "                   id         username                  date_utc  hour_utc  \\\n",
       "0  815422340540547073  realDonaldTrump 2017-01-01 05:00:10+00:00         5   \n",
       "1  815930688889352192  realDonaldTrump 2017-01-02 14:40:10+00:00        14   \n",
       "2  815973752785793024  realDonaldTrump 2017-01-02 17:31:17+00:00        17   \n",
       "3  815989154555297792  realDonaldTrump 2017-01-02 18:32:29+00:00        18   \n",
       "4  815990335318982656  realDonaldTrump 2017-01-02 18:37:10+00:00        18   \n",
       "\n",
       "   minute_utc  retweets  \n",
       "0           0     27134  \n",
       "1          40     23930  \n",
       "2          31     14119  \n",
       "3          32      3193  \n",
       "4          37      7337  "
      ]
     },
     "execution_count": 4,
     "metadata": {},
     "output_type": "execute_result"
    }
   ],
   "source": [
    "data_url = \"https://bit.ly/3cngqgL\" # or \"path/to/biden_trump_tweets.csv\"\n",
    "df = pd.read_csv(data_url, \n",
    "                 parse_dates=['date_utc'], \n",
    "                 dtype={'hour_utc':int,'minute_utc':int,'id':str}\n",
    "                )\n",
    "df.head()"
   ]
  },
  {
   "cell_type": "markdown",
   "id": "38b4dadb-bc68-4c6d-962e-984613fa2b10",
   "metadata": {},
   "source": [
    "We now group the data and extract the relevant tweet information for the first candidate (now president!) Joe Biden."
   ]
  },
  {
   "cell_type": "code",
   "execution_count": 5,
   "id": "e9630202-328b-4042-aefc-0a68d0130851",
   "metadata": {},
   "outputs": [
    {
     "data": {
      "text/html": [
       "<div>\n",
       "<style scoped>\n",
       "    .dataframe tbody tr th:only-of-type {\n",
       "        vertical-align: middle;\n",
       "    }\n",
       "\n",
       "    .dataframe tbody tr th {\n",
       "        vertical-align: top;\n",
       "    }\n",
       "\n",
       "    .dataframe thead th {\n",
       "        text-align: right;\n",
       "    }\n",
       "</style>\n",
       "<table border=\"1\" class=\"dataframe\">\n",
       "  <thead>\n",
       "    <tr style=\"text-align: right;\">\n",
       "      <th>minute_utc</th>\n",
       "      <th>0</th>\n",
       "      <th>1</th>\n",
       "      <th>2</th>\n",
       "      <th>3</th>\n",
       "      <th>4</th>\n",
       "      <th>5</th>\n",
       "      <th>6</th>\n",
       "      <th>7</th>\n",
       "      <th>8</th>\n",
       "    </tr>\n",
       "    <tr>\n",
       "      <th>hour_utc</th>\n",
       "      <th></th>\n",
       "      <th></th>\n",
       "      <th></th>\n",
       "      <th></th>\n",
       "      <th></th>\n",
       "      <th></th>\n",
       "      <th></th>\n",
       "      <th></th>\n",
       "      <th></th>\n",
       "    </tr>\n",
       "  </thead>\n",
       "  <tbody>\n",
       "    <tr>\n",
       "      <th>0</th>\n",
       "      <td>26.0</td>\n",
       "      <td>16.0</td>\n",
       "      <td>6.0</td>\n",
       "      <td>7.0</td>\n",
       "      <td>4.0</td>\n",
       "      <td>24.0</td>\n",
       "      <td>2.0</td>\n",
       "      <td>2.0</td>\n",
       "      <td>9.0</td>\n",
       "    </tr>\n",
       "    <tr>\n",
       "      <th>1</th>\n",
       "      <td>24.0</td>\n",
       "      <td>7.0</td>\n",
       "      <td>5.0</td>\n",
       "      <td>6.0</td>\n",
       "      <td>4.0</td>\n",
       "      <td>19.0</td>\n",
       "      <td>1.0</td>\n",
       "      <td>2.0</td>\n",
       "      <td>6.0</td>\n",
       "    </tr>\n",
       "    <tr>\n",
       "      <th>2</th>\n",
       "      <td>3.0</td>\n",
       "      <td>3.0</td>\n",
       "      <td>3.0</td>\n",
       "      <td>NaN</td>\n",
       "      <td>5.0</td>\n",
       "      <td>1.0</td>\n",
       "      <td>4.0</td>\n",
       "      <td>8.0</td>\n",
       "      <td>NaN</td>\n",
       "    </tr>\n",
       "    <tr>\n",
       "      <th>3</th>\n",
       "      <td>3.0</td>\n",
       "      <td>3.0</td>\n",
       "      <td>3.0</td>\n",
       "      <td>4.0</td>\n",
       "      <td>5.0</td>\n",
       "      <td>1.0</td>\n",
       "      <td>3.0</td>\n",
       "      <td>5.0</td>\n",
       "      <td>4.0</td>\n",
       "    </tr>\n",
       "    <tr>\n",
       "      <th>4</th>\n",
       "      <td>1.0</td>\n",
       "      <td>1.0</td>\n",
       "      <td>1.0</td>\n",
       "      <td>2.0</td>\n",
       "      <td>NaN</td>\n",
       "      <td>NaN</td>\n",
       "      <td>1.0</td>\n",
       "      <td>1.0</td>\n",
       "      <td>1.0</td>\n",
       "    </tr>\n",
       "    <tr>\n",
       "      <th>5</th>\n",
       "      <td>1.0</td>\n",
       "      <td>2.0</td>\n",
       "      <td>NaN</td>\n",
       "      <td>NaN</td>\n",
       "      <td>NaN</td>\n",
       "      <td>1.0</td>\n",
       "      <td>NaN</td>\n",
       "      <td>NaN</td>\n",
       "      <td>NaN</td>\n",
       "    </tr>\n",
       "    <tr>\n",
       "      <th>6</th>\n",
       "      <td>NaN</td>\n",
       "      <td>NaN</td>\n",
       "      <td>NaN</td>\n",
       "      <td>NaN</td>\n",
       "      <td>NaN</td>\n",
       "      <td>NaN</td>\n",
       "      <td>NaN</td>\n",
       "      <td>NaN</td>\n",
       "      <td>NaN</td>\n",
       "    </tr>\n",
       "    <tr>\n",
       "      <th>10</th>\n",
       "      <td>7.0</td>\n",
       "      <td>2.0</td>\n",
       "      <td>1.0</td>\n",
       "      <td>NaN</td>\n",
       "      <td>NaN</td>\n",
       "      <td>NaN</td>\n",
       "      <td>NaN</td>\n",
       "      <td>NaN</td>\n",
       "      <td>NaN</td>\n",
       "    </tr>\n",
       "    <tr>\n",
       "      <th>11</th>\n",
       "      <td>2.0</td>\n",
       "      <td>5.0</td>\n",
       "      <td>NaN</td>\n",
       "      <td>NaN</td>\n",
       "      <td>NaN</td>\n",
       "      <td>NaN</td>\n",
       "      <td>NaN</td>\n",
       "      <td>NaN</td>\n",
       "      <td>NaN</td>\n",
       "    </tr>\n",
       "    <tr>\n",
       "      <th>12</th>\n",
       "      <td>4.0</td>\n",
       "      <td>NaN</td>\n",
       "      <td>1.0</td>\n",
       "      <td>1.0</td>\n",
       "      <td>1.0</td>\n",
       "      <td>NaN</td>\n",
       "      <td>1.0</td>\n",
       "      <td>NaN</td>\n",
       "      <td>NaN</td>\n",
       "    </tr>\n",
       "  </tbody>\n",
       "</table>\n",
       "</div>"
      ],
      "text/plain": [
       "minute_utc     0     1    2    3    4     5    6    7    8\n",
       "hour_utc                                                  \n",
       "0           26.0  16.0  6.0  7.0  4.0  24.0  2.0  2.0  9.0\n",
       "1           24.0   7.0  5.0  6.0  4.0  19.0  1.0  2.0  6.0\n",
       "2            3.0   3.0  3.0  NaN  5.0   1.0  4.0  8.0  NaN\n",
       "3            3.0   3.0  3.0  4.0  5.0   1.0  3.0  5.0  4.0\n",
       "4            1.0   1.0  1.0  2.0  NaN   NaN  1.0  1.0  1.0\n",
       "5            1.0   2.0  NaN  NaN  NaN   1.0  NaN  NaN  NaN\n",
       "6            NaN   NaN  NaN  NaN  NaN   NaN  NaN  NaN  NaN\n",
       "10           7.0   2.0  1.0  NaN  NaN   NaN  NaN  NaN  NaN\n",
       "11           2.0   5.0  NaN  NaN  NaN   NaN  NaN  NaN  NaN\n",
       "12           4.0   NaN  1.0  1.0  1.0   NaN  1.0  NaN  NaN"
      ]
     },
     "execution_count": 5,
     "metadata": {},
     "output_type": "execute_result"
    }
   ],
   "source": [
    "g = df.groupby(['hour_utc','minute_utc','username'])\n",
    "tweet_cnt = g.id.nunique()\n",
    "jb_tweet_cnt = tweet_cnt.loc[:,:,'JoeBiden'].reset_index().pivot(index='hour_utc', columns='minute_utc', values='id')\n",
    "# taking a look at a part of the data frame\n",
    "jb_tweet_cnt.iloc[:10,:9]"
   ]
  },
  {
   "cell_type": "markdown",
   "id": "40b0942f-e1df-488f-ac1f-f900e2e19929",
   "metadata": {},
   "source": [
    "Adressing the null values and putting in substitutes for both the candidates in the following two code cells."
   ]
  },
  {
   "cell_type": "code",
   "execution_count": 6,
   "id": "35bc93c1-e6a8-45d5-aa8b-506d97afef8d",
   "metadata": {},
   "outputs": [],
   "source": [
    "jb_tweet_cnt.fillna(0, inplace=True)\n",
    "# Ensure all hours in table\n",
    "jb_tweet_cnt = jb_tweet_cnt.reindex(range(0,24), axis=0, fill_value=0)\n",
    "# Ensure all minutes in table\n",
    "jb_tweet_cnt = jb_tweet_cnt.reindex(range(0,60), axis=1, fill_value=0).astype(int) "
   ]
  },
  {
   "cell_type": "code",
   "execution_count": 7,
   "id": "e6af73d2-7fbb-4d5f-a644-ef1cb49ab91b",
   "metadata": {},
   "outputs": [],
   "source": [
    "dt_tweet_cnt = tweet_cnt.loc[:,:,'realDonaldTrump'].reset_index().pivot(index='hour_utc', columns='minute_utc', values='id')\n",
    "dt_tweet_cnt.fillna(0, inplace=True)\n",
    "dt_tweet_cnt = dt_tweet_cnt.reindex(range(0,24), axis=0, fill_value=0)\n",
    "dt_tweet_cnt = dt_tweet_cnt.reindex(range(0,60), axis=1, fill_value=0).astype(int)"
   ]
  },
  {
   "cell_type": "markdown",
   "id": "bb0c96cf-b36a-4595-b1bc-ea4e9664a728",
   "metadata": {},
   "source": [
    "Plotting the heatmaps."
   ]
  },
  {
   "cell_type": "code",
   "execution_count": 18,
   "id": "e70ef380-6186-4f95-b444-0c9b56a017fe",
   "metadata": {},
   "outputs": [
    {
     "data": {
      "image/png": "[encoded data removed]",
      "text/plain": [
       "<Figure size 432x288 with 2 Axes>"
      ]
     },
     "metadata": {
      "needs_background": "light"
     },
     "output_type": "display_data"
    }
   ],
   "source": [
    "sns.heatmap(dt_tweet_cnt)\n",
    "plt.show()"
   ]
  },
  {
   "cell_type": "code",
   "execution_count": 19,
   "id": "dd064157-01fa-4069-bb7d-453d8e72b7c3",
   "metadata": {},
   "outputs": [
    {
     "data": {
      "image/png": "[encoded data removed]",
      "text/plain": [
       "<Figure size 432x288 with 2 Axes>"
      ]
     },
     "metadata": {
      "needs_background": "light"
     },
     "output_type": "display_data"
    }
   ],
   "source": [
    "sns.heatmap(jb_tweet_cnt)\n",
    "plt.show()"
   ]
  },
  {
   "cell_type": "markdown",
   "id": "e7f25cf2-a390-4a70-a558-02910ffe96b3",
   "metadata": {},
   "source": [
    "#### And there you have it. A heat-map you plotted on your own! What do these heat maps tell us in a glance? Tweeting more is not always a good thing. "
   ]
  },
  {
   "cell_type": "markdown",
   "id": "7d81c105-d695-4f49-b961-047ca69e5231",
   "metadata": {},
   "source": [
    "<center> <img src=\"win.jpg\">"
   ]
  },
  {
   "cell_type": "markdown",
   "id": "231a7136-132a-4888-911a-7cab96c2ad91",
   "metadata": {},
   "source": [
    "This notebook was insired by the following article https://stackabuse.com/ultimate-guide-to-heatmaps-in-seaborn-with-python/"
   ]
  }
 ],
 "metadata": {
  "kernelspec": {
   "display_name": "Python 3",
   "language": "python",
   "name": "python3"
  },
  "language_info": {
   "codemirror_mode": {
    "name": "ipython",
    "version": 3
   },
   "file_extension": ".py",
   "mimetype": "text/x-python",
   "name": "python",
   "nbconvert_exporter": "python",
   "pygments_lexer": "ipython3",
   "version": "3.9.1"
  }
 },
 "nbformat": 4,
 "nbformat_minor": 5
}
