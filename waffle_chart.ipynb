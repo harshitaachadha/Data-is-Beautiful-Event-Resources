{
 "cells": [
  {
   "cell_type": "markdown",
   "id": "577f56f3-02e7-4221-a5ff-d47e1d851914",
   "metadata": {},
   "source": [
    "# Waffle Chart"
   ]
  },
  {
   "cell_type": "markdown",
   "id": "3e7468b1-8da0-4ae1-bfa7-6958ee12641d",
   "metadata": {},
   "source": [
    "A waffle chart shows progress towards a target or a completion percentage. There is a grid of small cells, of which coloured cells represent the data. A chart can consist of one category or several categories. Multiple waffle charts can be put together to show a comparison between different charts."
   ]
  },
  {
   "cell_type": "markdown",
   "id": "2b3df717-3fcf-43fb-88e8-4a095c5b3b01",
   "metadata": {},
   "source": [
    "There are two main ways to create a waffle chart in python. These are either using the matplotlib library or by using pywaffle. Both of these methods are illustrated in this notebook. For visualization, the vaccination data of India has been used from the [WHO website.](https://covid19.who.int/region/searo/country/in'official)"
   ]
  },
  {
   "cell_type": "markdown",
   "id": "526b258a-b50f-4ad1-afce-5cf6eec8186d",
   "metadata": {},
   "source": [
    "#### ***1. Using Matplotlib***"
   ]
  },
  {
   "cell_type": "markdown",
   "id": "f03417a9-f172-4b50-b90c-234e66f0d559",
   "metadata": {},
   "source": [
    "Matplotlib is perhaps the most widely used visualization library in python. It can be used to create practically every visualization plot out there. This library was released for public usage in the year 2003. Since then there have been many new alternatives to matplotlib that have been created. One such alternative is the widely vused seaborn library that is created on top of matplotlub and was released sometime in 2012-2013."
   ]
  },
  {
   "cell_type": "markdown",
   "id": "864407d0-b4a0-40fb-95b0-073f05a0ee32",
   "metadata": {},
   "source": [
    "In case of waffle charts, although one can create these using matplotlib as has been shown below, a new library called pywaffle has recently been introduced that reduces the complexity and length of code to a large extent. The usage of pywaffle is illustarted in the next section."
   ]
  },
  {
   "cell_type": "markdown",
   "id": "4c047804-bc63-42e7-bbb1-f9ebf7501b09",
   "metadata": {},
   "source": [
    "To start plotting a waffle chart in matplotlib we first import the pre-requisite libraries"
   ]
  },
  {
   "cell_type": "code",
   "execution_count": 26,
   "id": "622f720b-a851-493a-9d4b-5ebc37578db4",
   "metadata": {},
   "outputs": [],
   "source": [
    "import pandas as pd\n",
    "import numpy as np\n",
    "import matplotlib.pyplot as plt\n",
    "import matplotlib.patches as mpatches"
   ]
  },
  {
   "cell_type": "markdown",
   "id": "ba98a934-092b-4ad9-ad81-be92f09b9c3b",
   "metadata": {},
   "source": [
    "After importing all the relevant libraries, we create a dataframe that contains vaccination information."
   ]
  },
  {
   "cell_type": "code",
   "execution_count": 27,
   "id": "ee6d871e-9a74-4e96-9c56-97e0c741f0d1",
   "metadata": {},
   "outputs": [],
   "source": [
    "df = pd.DataFrame({\n",
    "    'Vaccination_Status': ['Not Vaccinated', 'First Dose Vaccinated', 'Second Dose Vaccinated'],\n",
    "    'number': [1165675142, 130003225, 30414880] \n",
    "})"
   ]
  },
  {
   "cell_type": "markdown",
   "id": "90990e5f-de9e-40b6-baac-9791437818f3",
   "metadata": {},
   "source": [
    "Following this, the total number of values, which in this case is the population of India and the propostion of the three vaccination type groups are computed."
   ]
  },
  {
   "cell_type": "code",
   "execution_count": 28,
   "id": "ee2dae6e-069d-4907-bd69-b45cd6c3c4fa",
   "metadata": {},
   "outputs": [],
   "source": [
    "total =1326093247\n",
    "proportions = [(float(value) / total) for value in df['number']]"
   ]
  },
  {
   "cell_type": "markdown",
   "id": "bc51cff3-6c24-41e2-b611-ad193baec969",
   "metadata": {},
   "source": [
    "In the code cell below, the dimensions of the waffle chart to be created is fixed"
   ]
  },
  {
   "cell_type": "code",
   "execution_count": 29,
   "id": "64334c6f-6a1f-4c43-95d5-35d99c2e4630",
   "metadata": {},
   "outputs": [],
   "source": [
    "width = 40\n",
    "height=10\n",
    "total= width * height"
   ]
  },
  {
   "cell_type": "markdown",
   "id": "3981a5b9-d1e7-4246-9db4-10fa362ab57c",
   "metadata": {},
   "source": [
    "Here we calculate the number of tiles that will belong to each of the vaccination category in the final waffle chart"
   ]
  },
  {
   "cell_type": "code",
   "execution_count": 30,
   "id": "cd94f1fb-52a6-4c4d-b55c-6c9e1b31796f",
   "metadata": {},
   "outputs": [],
   "source": [
    "tiles_per_category = [round(proportion * total) for proportion in proportions]"
   ]
  },
  {
   "cell_type": "markdown",
   "id": "7d0be1b3-ffdb-4ff6-95d9-eadf34ec5a30",
   "metadata": {},
   "source": [
    "A dummy matrix of zeroes is created and then a loop is run which assigns the vaccination categories (i.e. 0,1,2) to each of the indeces in the matrix to create a skeletal waffle chart."
   ]
  },
  {
   "cell_type": "code",
   "execution_count": 31,
   "id": "8c99f153-6156-414c-bbe5-aac056e3c9be",
   "metadata": {},
   "outputs": [],
   "source": [
    "waffle = np.zeros((height, width))\n",
    "category_index = 0\n",
    "tile_index = 0\n",
    "for col in range(width):\n",
    "    for row in range(height):\n",
    "        tile_index += 1\n",
    "        if tile_index > sum(tiles_per_category[0:category_index]):\n",
    "            category_index += 1\n",
    "        waffle[row, col] = category_index"
   ]
  },
  {
   "cell_type": "markdown",
   "id": "8efad050-82fc-4c00-8e50-c1f78e484c7c",
   "metadata": {},
   "source": [
    "The use of matplotlib is done to convert the skeletal, matrix form waffle chart into a proper plot. Suitable color scheme is chosen and a legend is assigned for intuitive reading."
   ]
  },
  {
   "cell_type": "code",
   "execution_count": 32,
   "id": "eb4e0d0a-7662-4048-9a44-315ec4e40ba6",
   "metadata": {},
   "outputs": [
    {
     "data": {
      "text/plain": [
       "<matplotlib.colorbar.Colorbar at 0x11b3cfac0>"
      ]
     },
     "execution_count": 32,
     "metadata": {},
     "output_type": "execute_result"
    },
    {
     "data": {
      "text/plain": [
       "<Figure size 432x288 with 0 Axes>"
      ]
     },
     "metadata": {},
     "output_type": "display_data"
    },
    {
     "data": {
      "image/png": "[encoded data removed]",
      "text/plain": [
       "<Figure size 1152x288 with 2 Axes>"
      ]
     },
     "metadata": {
      "needs_background": "light"
     },
     "output_type": "display_data"
    }
   ],
   "source": [
    "fig = plt.figure()\n",
    "colormap = plt.cm.plasma\n",
    "plt.matshow(waffle, cmap=colormap)\n",
    "ax = plt.gca()\n",
    "ax.set_xticks(np.arange(-0.5, (width), 1), minor=True)\n",
    "ax.set_yticks(np.arange(-0.5, (height), 1), minor=True)\n",
    "ax.grid(which='minor', color='w', linestyle='-', linewidth=2)\n",
    "plt.xticks([])\n",
    "plt.yticks([])\n",
    "values = df['number']\n",
    "categories = df['Vaccination_Status']\n",
    "value_sign = ''\n",
    "values_cumsum = np.cumsum(values)\n",
    "total_values = values_cumsum[len(values_cumsum) - 1]\n",
    "legend_handles = []\n",
    "for i, category in enumerate(categories):\n",
    "    if value_sign == '%':\n",
    "        label_str = category + ' (' + str(values[i]) + value_sign + ')' \n",
    "    else:\n",
    "        label_str = category + ' (' + value_sign + str(values[i]) + ')'\n",
    "    color_val = [[0.074,0.057,0.589,1.0],[0.819, 0.247, 0.407, 1.0],[1.0, 0.956, 0.458, 1.0]]\n",
    "    legend_handles.append(mpatches.Patch(color=color_val[i], label=label_str))\n",
    "    \n",
    "plt.legend(handles=legend_handles, loc = 'lower center', ncol=len(categories),\n",
    "          bbox_to_anchor=(0., 0.2, 0.95, 0.1)) #positioning legends\n",
    "plt.colorbar()"
   ]
  },
  {
   "cell_type": "markdown",
   "id": "c74196ed-67eb-4232-81de-5bed788f0b45",
   "metadata": {},
   "source": [
    "And that's it! You have successfully created your first ever waffle chart. The function below is a combination of all the above code cells. The function create_waffle_chart() can be called with suitable arguments for any data frame to plot a waffle chart."
   ]
  },
  {
   "cell_type": "code",
   "execution_count": 33,
   "id": "c73bafd2-934a-47cb-9d2e-d231b3f42c99",
   "metadata": {},
   "outputs": [],
   "source": [
    "def create_waffle_chart(categories, values, height, width, colormap, value_sign=''):\n",
    "\n",
    "    # compute the proportion of each category with respect to the total\n",
    "    total_values = sum(values)\n",
    "    category_proportions = [(float(value) / total_values) for value in values]\n",
    "\n",
    "    # compute the total number of tiles\n",
    "    total_num_tiles = width * height # total number of tiles\n",
    "    print ('Total number of tiles is', total_num_tiles)\n",
    "    \n",
    "    # compute the number of tiles for each catagory\n",
    "    tiles_per_category = [round(proportion * total_num_tiles) for proportion in category_proportions]\n",
    "\n",
    "    # initialize the waffle chart as an empty matrix\n",
    "    waffle_chart = np.zeros((height, width))\n",
    "\n",
    "    # define indices to loop through waffle chart\n",
    "    category_index = 0\n",
    "    tile_index = 0\n",
    "\n",
    "    # populate the waffle chart\n",
    "    for col in range(width):\n",
    "        for row in range(height):\n",
    "            tile_index += 1\n",
    "\n",
    "            # if the number of tiles populated for the current category \n",
    "            # is equal to its corresponding allocated tiles...\n",
    "            if tile_index > sum(tiles_per_category[0:category_index]):\n",
    "                # ...proceed to the next category\n",
    "                category_index += 1       \n",
    "            \n",
    "            # set the class value to an integer, which increases with class\n",
    "            waffle_chart[row, col] = category_index\n",
    "    \n",
    "    # instantiate a new figure object\n",
    "    fig = plt.figure()\n",
    "\n",
    "    # use matshow to display the waffle chart\n",
    "    colormap = plt.cm.plasma\n",
    "    plt.matshow(waffle_chart, cmap=colormap)\n",
    "    plt.colorbar()\n",
    "\n",
    "    # get the axis\n",
    "    ax = plt.gca()\n",
    "\n",
    "    # set minor ticks\n",
    "    ax.set_xticks(np.arange(-.5, (width), 1), minor=True)\n",
    "    ax.set_yticks(np.arange(-.5, (height), 1), minor=True)\n",
    "    \n",
    "    # add dridlines based on minor ticks\n",
    "    ax.grid(which='minor', color='w', linestyle='-', linewidth=2)\n",
    "\n",
    "    plt.xticks([])\n",
    "    plt.yticks([])\n",
    "\n",
    "   # compute cumulative sum of individual categories to match color schemes between chart and legend\n",
    "    values_cumsum = np.cumsum(values)\n",
    "    total_values = values_cumsum[len(values_cumsum) - 1]\n",
    "\n",
    "    # create legend\n",
    "    legend_handles = []\n",
    "    for i, category in enumerate(categories):\n",
    "        if value_sign == '%':\n",
    "            label_str = category + ' (' + str(values[i]) + value_sign + ')'\n",
    "        else:\n",
    "            label_str = category + ' (' + value_sign + str(values[i]) + ')'\n",
    "            \n",
    "        color_val = [[0.074,0.057,0.589,1.0],[0.819, 0.247, 0.407, 1.0],[1.0, 0.956, 0.458, 1.0]]\n",
    "        legend_handles.append(mpatches.Patch(color=color_val[i], label=label_str))\n",
    "\n",
    "    # add legend to chart\n",
    "    plt.legend(\n",
    "        handles=legend_handles,\n",
    "        loc='lower center', \n",
    "        ncol=len(categories),\n",
    "        bbox_to_anchor=(0., -0.2, 0.95, .1)\n",
    "    )"
   ]
  },
  {
   "cell_type": "markdown",
   "id": "cdc21071-9fb6-4ba0-93eb-6650a5837162",
   "metadata": {},
   "source": [
    "Defining the values for the function"
   ]
  },
  {
   "cell_type": "code",
   "execution_count": 34,
   "id": "e0ce398e-2655-448c-90a9-bbf83345d0f1",
   "metadata": {},
   "outputs": [],
   "source": [
    "width = 40 # width of chart\n",
    "height = 10 # height of chart\n",
    "\n",
    "categories = list(df['Vaccination_Status']) # categories\n",
    "values = list(df['number']) # correponding values of categories\n",
    "\n",
    "colormap = plt.cm.plasma# color map class"
   ]
  },
  {
   "cell_type": "markdown",
   "id": "8f39b08a-2576-42c6-8bab-6c6aaab1eb19",
   "metadata": {},
   "source": [
    "Calling the function"
   ]
  },
  {
   "cell_type": "code",
   "execution_count": 35,
   "id": "eadbb5ae-6299-491e-846e-2c8d9d76fef3",
   "metadata": {},
   "outputs": [
    {
     "name": "stdout",
     "output_type": "stream",
     "text": [
      "Total number of tiles is 400\n"
     ]
    },
    {
     "data": {
      "text/plain": [
       "<Figure size 432x288 with 0 Axes>"
      ]
     },
     "metadata": {},
     "output_type": "display_data"
    },
    {
     "data": {
      "image/png": "[encoded data removed]",
      "text/plain": [
       "<Figure size 1152x288 with 2 Axes>"
      ]
     },
     "metadata": {
      "needs_background": "light"
     },
     "output_type": "display_data"
    }
   ],
   "source": [
    "create_waffle_chart(categories, values, height, width, colormap)"
   ]
  },
  {
   "cell_type": "markdown",
   "id": "1c0939b1-1589-475a-ab6c-2803c4713e69",
   "metadata": {},
   "source": [
    "And that's it for creating waffle charts with matplotlib. In the next section of this notebook, we try to create the same exact waffle chart as above using pywaffle instead."
   ]
  },
  {
   "cell_type": "markdown",
   "id": "936f943c-f47f-4b6d-abeb-b73d33e7006d",
   "metadata": {},
   "source": [
    "#### ***1. Using PyWaffle***"
   ]
  },
  {
   "cell_type": "markdown",
   "id": "3a65ebd6-e49c-4c44-bcfc-000c0217468d",
   "metadata": {},
   "source": [
    "Pywaffle makes the task of waffle chart creation much easier. In the case of matplotlib, the code was quite complex and at places very non-intuitive and time consuming. Let's face it, no-one wants to spend a ton of time creating a waffle they cannot eat! In such a situation, pywaffle comes to the rescue."
   ]
  },
  {
   "cell_type": "markdown",
   "id": "fec755ec-c868-43c1-aa40-be35c2921def",
   "metadata": {},
   "source": [
    "Before writing the actual code, we must first dowmload the library into the jupyter notebook as unlike in the case of matplotlib, this is not done by default. A combination of the pip tool with magic functions can be used to do so."
   ]
  },
  {
   "cell_type": "code",
   "execution_count": 36,
   "id": "cdec3650-057f-423e-b0d2-8d6fac251f57",
   "metadata": {
    "collapsed": true,
    "jupyter": {
     "outputs_hidden": true
    },
    "tags": []
   },
   "outputs": [
    {
     "name": "stdout",
     "output_type": "stream",
     "text": [
      "Requirement already satisfied: pywaffle in /usr/local/lib/python3.9/site-packages (0.6.1)\n",
      "Requirement already satisfied: matplotlib in /usr/local/lib/python3.9/site-packages (from pywaffle) (3.3.4)\n",
      "Requirement already satisfied: pyparsing!=2.0.4,!=2.1.2,!=2.1.6,>=2.0.3 in /usr/local/lib/python3.9/site-packages (from matplotlib->pywaffle) (2.4.7)\n",
      "Requirement already satisfied: pillow>=6.2.0 in /usr/local/lib/python3.9/site-packages (from matplotlib->pywaffle) (8.1.2)\n",
      "Requirement already satisfied: kiwisolver>=1.0.1 in /usr/local/lib/python3.9/site-packages (from matplotlib->pywaffle) (1.3.1)\n",
      "Requirement already satisfied: python-dateutil>=2.1 in /usr/local/lib/python3.9/site-packages (from matplotlib->pywaffle) (2.8.1)\n",
      "Requirement already satisfied: numpy>=1.15 in /usr/local/lib/python3.9/site-packages (from matplotlib->pywaffle) (1.20.1)\n",
      "Requirement already satisfied: cycler>=0.10 in /usr/local/lib/python3.9/site-packages (from matplotlib->pywaffle) (0.10.0)\n",
      "Requirement already satisfied: six in /usr/local/lib/python3.9/site-packages (from cycler>=0.10->matplotlib->pywaffle) (1.15.0)\n",
      "\u001b[33mWARNING: You are using pip version 21.0.1; however, version 21.1.1 is available.\n",
      "You should consider upgrading via the '/usr/local/opt/python@3.9/bin/python3.9 -m pip install --upgrade pip' command.\u001b[0m\n"
     ]
    }
   ],
   "source": [
    "# dowloading the library\n",
    "!pip install pywaffle\n",
    "# importing the waffle module\n",
    "from pywaffle import Waffle"
   ]
  },
  {
   "cell_type": "code",
   "execution_count": null,
   "id": "4e8d7480-18bc-44fc-9c6c-e7fe1f01bb2f",
   "metadata": {},
   "outputs": [],
   "source": [
    "fig = plt.figure(\n",
    "    FigureClass=Waffle, \n",
    "    rows=10, \n",
    "    values=list(df.number),\n",
    "    labels=list(df.Vaccination_Status),\n",
    "    figsize=(12, 8),\n",
    "    legend={'bbox_to_anchor': (0.5, 0.5)}\n",
    ")"
   ]
  },
  {
   "cell_type": "markdown",
   "id": "b53ede2b-8fad-43d9-89f8-89b5f8dff881",
   "metadata": {},
   "source": [
    "And that's it. We have successfully created waffle charts using two different ways now! With this level of understanding of waffle charts, yopu can now pickup any data set of your own choice and go to town."
   ]
  },
  {
   "cell_type": "code",
   "execution_count": null,
   "id": "f1b5541b-5603-4fe7-b47c-535a25872aa5",
   "metadata": {},
   "outputs": [],
   "source": []
  }
 ],
 "metadata": {
  "kernelspec": {
   "display_name": "Python 3",
   "language": "python",
   "name": "python3"
  },
  "language_info": {
   "codemirror_mode": {
    "name": "ipython",
    "version": 3
   },
   "file_extension": ".py",
   "mimetype": "text/x-python",
   "name": "python",
   "nbconvert_exporter": "python",
   "pygments_lexer": "ipython3",
   "version": "3.9.1"
  }
 },
 "nbformat": 4,
 "nbformat_minor": 5
}
